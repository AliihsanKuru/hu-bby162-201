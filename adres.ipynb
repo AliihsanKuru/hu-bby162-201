{
  "nbformat": 4,
  "nbformat_minor": 0,
  "metadata": {
    "colab": {
      "name": "adres.ipynb",
      "provenance": [],
      "mount_file_id": "1wTrAOsmw53qPkTuDiZnDh-pt855yyPhO",
      "authorship_tag": "ABX9TyOnM5/SoCNxRgA12oo/cWQE",
      "include_colab_link": true
    },
    "kernelspec": {
      "name": "python3",
      "display_name": "Python 3"
    },
    "language_info": {
      "name": "python"
    }
  },
  "cells": [
    {
      "cell_type": "markdown",
      "metadata": {
        "id": "view-in-github",
        "colab_type": "text"
      },
      "source": [
        "<a href=\"https://colab.research.google.com/github/AliihsanKuru/hu-bby162-2021/blob/main/adres.ipynb\" target=\"_parent\"><img src=\"https://colab.research.google.com/assets/colab-badge.svg\" alt=\"Open In Colab\"/></a>"
      ]
    },
    {
      "cell_type": "code",
      "metadata": {
        "colab": {
          "base_uri": "https://localhost:8080/"
        },
        "id": "ME-3eTdYK8re",
        "outputId": "e18a3367-3354-4ef6-da8b-c6f2cf94b5b0"
      },
      "source": [
        "\n",
        "#dosya işlemleri\n",
        "\n",
        "dosya = \"/content/drive/MyDrive/hu-bby162-2021/adres.txt\"\n",
        "\n",
        "adSoyad = input(\"Adınızı soyadınızı giriniz: \")\n",
        "eposta = input(\"E-posta adresinizi giriniz: \")\n",
        "\n",
        "f = open(dosya, \"a\") \n",
        "f.write(adSoyad + \" | \" + eposta + \"\\n\" )\n",
        "f.close()\n",
        "\n",
        "f = open(dosya, \"r\")\n",
        "\n",
        "for line in f.readlines():\n",
        "    print(line)\n",
        "\n",
        "f.close()"
      ],
      "execution_count": 2,
      "outputs": [
        {
          "output_type": "stream",
          "text": [
            "Adınızı soyadınızı giriniz: Ali İhsan Kuru\n",
            "E-posta adresinizi giriniz: aliihsankuru7@gmail.com\n",
            "Ali İhsan Kuru | aliihsankuru7@gmail.com\n",
            "\n"
          ],
          "name": "stdout"
        }
      ]
    }
  ]
}