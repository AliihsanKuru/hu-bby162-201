{
  "nbformat": 4,
  "nbformat_minor": 0,
  "metadata": {
    "colab": {
      "name": "Untitled0.ipynb",
      "provenance": [],
      "mount_file_id": "1QP31d4BfTMk8RiI4m8ovAr8vV_lC-koK",
      "authorship_tag": "ABX9TyPDgr3WitAZe2Kz1/A3HraW",
      "include_colab_link": true
    },
    "kernelspec": {
      "name": "python3",
      "display_name": "Python 3"
    },
    "language_info": {
      "name": "python"
    }
  },
  "cells": [
    {
      "cell_type": "markdown",
      "metadata": {
        "id": "view-in-github",
        "colab_type": "text"
      },
      "source": [
        "<a href=\"https://colab.research.google.com/github/AliihsanKuru/hu-bby162-2021/blob/main/Untitled0.ipynb\" target=\"_parent\"><img src=\"https://colab.research.google.com/assets/colab-badge.svg\" alt=\"Open In Colab\"/></a>"
      ]
    },
    {
      "cell_type": "code",
      "metadata": {
        "colab": {
          "base_uri": "https://localhost:8080/"
        },
        "id": "UCZWKix9l5DC",
        "outputId": "404c7e7e-14f2-41a1-c1ca-ce49e669e01f"
      },
      "source": [
        "#dosya okuma\n",
        "#Google Drive Bağlantısı\n",
        "'''\n",
        "from google.colab import drive\n",
        "drive.mount('/gdrive')\n",
        "'''\n",
        "\n",
        "dosya = \"/content/drive/MyDrive/hu-bby162-2021/adress.txt\"\n",
        "\n",
        "f = open(dosya, \"r\") \n",
        "\n",
        "for line in f.readlines():\n",
        "    print(line)\n",
        "\n",
        "f.close()"
      ],
      "execution_count": 4,
      "outputs": [
        {
          "output_type": "stream",
          "text": [
            "Ad, Soyad: Ali İhsan Kuru\n",
            "\n",
            "E-posta: aliihsankuru7@gmail.com\n"
          ],
          "name": "stdout"
        }
      ]
    },
    {
      "cell_type": "code",
      "metadata": {
        "colab": {
          "base_uri": "https://localhost:8080/"
        },
        "id": "7ulqKqzLQw6C",
        "outputId": "4b6d82d3-8cff-444b-91fd-466f7e42680b"
      },
      "source": [
        "#dosya yazma\n",
        "\n",
        "dosya = \"/content/drive/MyDrive/hu-bby162-2021/adres.txt\"\n",
        "\n",
        "f = open(dosya, \"r\")\n",
        "\n",
        "f = open( dosya, 'w')\n",
        "f.write (\"Ali İhsan\\n\")\n",
        "f.write (\"Kuru\\n\")\n",
        "f.write (\"aliihsankuru7@gmail.com\")\n",
        "f.close()\n",
        "\n",
        "f = open(dosya, \"r\")\n",
        "for line in f.readlines():\n",
        "   print(line)\n",
        "\n",
        "f.close()   "
      ],
      "execution_count": 5,
      "outputs": [
        {
          "output_type": "stream",
          "text": [
            "Ali İhsan\n",
            "\n",
            "Kuru\n",
            "\n",
            "aliihsankuru7@gmail.com\n"
          ],
          "name": "stdout"
        }
      ]
    }
  ]
}
