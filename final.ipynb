{
  "nbformat": 4,
  "nbformat_minor": 0,
  "metadata": {
    "colab": {
      "name": "final.ipynb",
      "provenance": [],
      "mount_file_id": "1jBQ52ucEb2_E8GJRKmnn61S7v3tU2gmK",
      "authorship_tag": "ABX9TyMHC0IWPG6i0ynwossh02Sh",
      "include_colab_link": true
    },
    "kernelspec": {
      "name": "python3",
      "display_name": "Python 3"
    },
    "language_info": {
      "name": "python"
    }
  },
  "cells": [
    {
      "cell_type": "markdown",
      "metadata": {
        "id": "view-in-github",
        "colab_type": "text"
      },
      "source": [
        "<a href=\"https://colab.research.google.com/github/AliihsanKuru/hu-bby162-2021/blob/main/final.ipynb\" target=\"_parent\"><img src=\"https://colab.research.google.com/assets/colab-badge.svg\" alt=\"Open In Colab\"/></a>"
      ]
    },
    {
      "cell_type": "code",
      "metadata": {
        "colab": {
          "base_uri": "https://localhost:8080/"
        },
        "id": "_iQfPGUQsHMo",
        "outputId": "c0f0dd45-1b10-447a-d817-a16bc4b5af7c"
      },
      "source": [
        "#FİNAL (Kütüphane Kataloglama Sistemi)\n",
        "dosya = \"/content/drive/MyDrive/hu-bby162-2021/final.txt\"\n",
        "print(\"<Hoşgeldiniz! Kütüphane Kataloglama Sistemi>\")\n",
        "\n",
        "def eserListe():\n",
        "  f = open(dosya, \"r\")\n",
        "  for line in f.readlines():\n",
        "    print(line)\n",
        "  f.close()\n",
        "\n",
        "def eserKaydet():\n",
        "  eserAdi = input(\"Eser Adını Girin: \")\n",
        "  eserinYazari = input(\"Eserin Yazarını Girin: \")\n",
        "  eserinYayınevi = input(\"Eserin Yayınevini Girin: \")\n",
        "  eserinBasımTarihi = input(\"Eserin Basım Tarihi Girin: \")\n",
        "  eserISBN = input(\"Eserin ISBN Numarasını Girin: \")\n",
        "  f = open(dosya, 'a' )\n",
        "  f.write(eserAdi + \" , \" + eserinYazari + \" , \" + eserinYayınevi + \" , \" + eserinBasımTarihi + \" , \" + eserISBN + '\\n')\n",
        "  print(\"Başarıyla Kaydedildi\") \n",
        "  f.close()\n",
        "  \n",
        "  \n",
        "'''\n",
        "def temizle():\n",
        "   f = open(dosya, \"w\")\n",
        "   dosya.clear()\n",
        "   f.close()\n",
        "'''\n",
        "\n",
        "islemSecme = [\"listele\", \"ekle\", \"bitir\",\"sil\"]\n",
        "while islemSecme:\n",
        "  girilen_islem = input(\"Katalogdaki eser listesini görüntülemek istiyorsanız 'listele' yazınız. \\n\"\n",
        "      \"Yeni eser kaydı eklemek istiyorsanız 'ekle' yazınız. \\n\"\n",
        "      \"Eser eserleri silmek istiyorsanız 'sil' yazınız\\n \"\n",
        "      \"Sistemden çıkış yapmak istiyorsanız 'bitir' yazınız. \\n\"\n",
        "      \"Hangi işlemi yapmak istediğinizle ilgili kelimeyi yazınız: \")\n",
        "  \n",
        "  \n",
        "  if girilen_islem == islemSecme[0]:\n",
        "    print(\"<Kütüphane Kataloglama Sistemi>\")\n",
        "    eserListe()\n",
        "  elif girilen_islem == islemSecme[1]:\n",
        "    print(\"Kataloğa yeni bir eser kaydedin.\")\n",
        "    eserKaydet()  \n",
        "    print(\"Kaydınız başarıyla oluşturuldu.\")\n",
        "  elif girilen_islem == islemSecme[2]:\n",
        "    break\n",
        "\n",
        " "
      ],
      "execution_count": null,
      "outputs": [
        {
          "output_type": "stream",
          "text": [
            "<Hoşgeldiniz! Kütüphane Kataloglama Sistemi>\n",
            "Katalogdaki eser listesini görüntülemek istiyorsanız 'listele' yazınız. \n",
            "Yeni eser kaydı eklemek istiyorsanız 'ekle' yazınız. \n",
            "Eser eserleri silmek istiyorsanız 'sil' yazınız\n",
            " Sistemden çıkış yapmak istiyorsanız 'bitir' yazınız. \n",
            "Hangi işlemi yapmak istediğinizle ilgili kelimeyi yazınız: listele\n",
            "<Kütüphane Kataloglama Sistemi>\n",
            "Kırık Hayatlar , Halit Ziya Uşaklıgil , Bilge Yayıncılık , 2017 , 9786059241984\n",
            "\n",
            "Seyahatname , Evliya Çelebi , Morpa Kültür Yayınları , 1992 , 9757413097\n",
            "\n",
            "Fedailerin Yuvası Alamut , Peter Willey , Yakamoz Kitap , 2005 , 9786052970447\n",
            "\n",
            "Satranç , Stefan Zweig , Bilgi Yayınevi , 2016 , 9789752206335\n",
            "\n",
            "The Son Of The Wolf , Jack London , İlya İzmir Yayınevi , 2012 , 9786054473625\n",
            "\n",
            "Tarihin Peşinde , John Tosh , Tarih Vakfı Yurt Yayınları , 2019 , 9789752430976\n",
            "\n"
          ],
          "name": "stdout"
        }
      ]
    }
  ]
}